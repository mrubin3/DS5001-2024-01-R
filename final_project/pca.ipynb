{
 "cells": [
  {
   "cell_type": "code",
   "execution_count": 1,
   "id": "c3d4df05-41c3-4c22-b20d-c437b87d7597",
   "metadata": {
    "tags": []
   },
   "outputs": [],
   "source": [
    "import pandas as pd\n",
    "import numpy as np\n",
    "import configparser\n",
    "import sys\n",
    "from sklearn.decomposition import PCA\n",
    "config = configparser.ConfigParser()\n",
    "config.read(\"../../env.ini\")\n",
    "data_home = config['DEFAULT']['data_home']\n",
    "output_dir = config['DEFAULT']['output_dir']\n",
    "local_lib = config['DEFAULT']['local_lib']\n",
    "sys.path.append(local_lib)\n",
    "\n",
    "OHCO = ['speech_id', 'para_num', 'sent_num', 'token_num']"
   ]
  },
  {
   "cell_type": "code",
   "execution_count": 5,
   "id": "ffa33b0b-7860-4c42-9a3a-1f4879c16915",
   "metadata": {
    "tags": []
   },
   "outputs": [],
   "source": [
    "LIB = pd.read_csv('LIB.csv', sep='|').set_index('speech_id')\n",
    "VOCAB = pd.read_csv('VOCAB.csv', sep='|').set_index('term_str')\n",
    "TFIDF = pd.read_csv('TFIDF_L2.csv').set_index(['speech_id', 'para_num'])"
   ]
  },
  {
   "cell_type": "code",
   "execution_count": 7,
   "id": "2759296e-3777-42fc-88cc-f8c21b860677",
   "metadata": {
    "tags": []
   },
   "outputs": [
    {
     "ename": "KeyError",
     "evalue": "'speech_id'",
     "output_type": "error",
     "traceback": [
      "\u001b[1;31m---------------------------------------------------------------------------\u001b[0m",
      "\u001b[1;31mKeyError\u001b[0m                                  Traceback (most recent call last)",
      "File \u001b[1;32m~\\anaconda3\\Lib\\site-packages\\pandas\\core\\indexes\\base.py:3653\u001b[0m, in \u001b[0;36mIndex.get_loc\u001b[1;34m(self, key)\u001b[0m\n\u001b[0;32m   3652\u001b[0m \u001b[38;5;28;01mtry\u001b[39;00m:\n\u001b[1;32m-> 3653\u001b[0m     \u001b[38;5;28;01mreturn\u001b[39;00m \u001b[38;5;28mself\u001b[39m\u001b[38;5;241m.\u001b[39m_engine\u001b[38;5;241m.\u001b[39mget_loc(casted_key)\n\u001b[0;32m   3654\u001b[0m \u001b[38;5;28;01mexcept\u001b[39;00m \u001b[38;5;167;01mKeyError\u001b[39;00m \u001b[38;5;28;01mas\u001b[39;00m err:\n",
      "File \u001b[1;32m~\\anaconda3\\Lib\\site-packages\\pandas\\_libs\\index.pyx:147\u001b[0m, in \u001b[0;36mpandas._libs.index.IndexEngine.get_loc\u001b[1;34m()\u001b[0m\n",
      "File \u001b[1;32m~\\anaconda3\\Lib\\site-packages\\pandas\\_libs\\index.pyx:176\u001b[0m, in \u001b[0;36mpandas._libs.index.IndexEngine.get_loc\u001b[1;34m()\u001b[0m\n",
      "File \u001b[1;32mpandas\\_libs\\hashtable_class_helper.pxi:7080\u001b[0m, in \u001b[0;36mpandas._libs.hashtable.PyObjectHashTable.get_item\u001b[1;34m()\u001b[0m\n",
      "File \u001b[1;32mpandas\\_libs\\hashtable_class_helper.pxi:7088\u001b[0m, in \u001b[0;36mpandas._libs.hashtable.PyObjectHashTable.get_item\u001b[1;34m()\u001b[0m\n",
      "\u001b[1;31mKeyError\u001b[0m: 'speech_id'",
      "\nThe above exception was the direct cause of the following exception:\n",
      "\u001b[1;31mKeyError\u001b[0m                                  Traceback (most recent call last)",
      "Cell \u001b[1;32mIn[7], line 6\u001b[0m\n\u001b[0;32m      3\u001b[0m pca_engine \u001b[38;5;241m=\u001b[39m PCA(n_components\u001b[38;5;241m=\u001b[39mn_comps)\n\u001b[0;32m      4\u001b[0m DCM \u001b[38;5;241m=\u001b[39m pd\u001b[38;5;241m.\u001b[39mDataFrame(pca_engine\u001b[38;5;241m.\u001b[39mfit_transform(TFIDF\u001b[38;5;241m.\u001b[39mfillna(\u001b[38;5;241m0\u001b[39m)), index\u001b[38;5;241m=\u001b[39mTFIDF\u001b[38;5;241m.\u001b[39mindex)\u001b[38;5;241m.\u001b[39mreset_index()\u001b[38;5;241m.\u001b[39mset_index(\n\u001b[0;32m      5\u001b[0m     [\u001b[38;5;124m'\u001b[39m\u001b[38;5;124mspeech_id\u001b[39m\u001b[38;5;124m'\u001b[39m, \u001b[38;5;124m'\u001b[39m\u001b[38;5;124mpara_num\u001b[39m\u001b[38;5;124m'\u001b[39m])\n\u001b[1;32m----> 6\u001b[0m DCM[\u001b[38;5;124m'\u001b[39m\u001b[38;5;124mspeech_id\u001b[39m\u001b[38;5;124m'\u001b[39m] \u001b[38;5;241m=\u001b[39m DCM[\u001b[38;5;124m'\u001b[39m\u001b[38;5;124mspeech_id\u001b[39m\u001b[38;5;124m'\u001b[39m] \u001b[38;5;241m+\u001b[39m \u001b[38;5;241m1\u001b[39m\n\u001b[0;32m      7\u001b[0m DCM\u001b[38;5;241m.\u001b[39mcolumns \u001b[38;5;241m=\u001b[39m pc_cols\n\u001b[0;32m      8\u001b[0m \u001b[38;5;66;03m#print(DCM)\u001b[39;00m\n",
      "File \u001b[1;32m~\\anaconda3\\Lib\\site-packages\\pandas\\core\\frame.py:3761\u001b[0m, in \u001b[0;36mDataFrame.__getitem__\u001b[1;34m(self, key)\u001b[0m\n\u001b[0;32m   3759\u001b[0m \u001b[38;5;28;01mif\u001b[39;00m \u001b[38;5;28mself\u001b[39m\u001b[38;5;241m.\u001b[39mcolumns\u001b[38;5;241m.\u001b[39mnlevels \u001b[38;5;241m>\u001b[39m \u001b[38;5;241m1\u001b[39m:\n\u001b[0;32m   3760\u001b[0m     \u001b[38;5;28;01mreturn\u001b[39;00m \u001b[38;5;28mself\u001b[39m\u001b[38;5;241m.\u001b[39m_getitem_multilevel(key)\n\u001b[1;32m-> 3761\u001b[0m indexer \u001b[38;5;241m=\u001b[39m \u001b[38;5;28mself\u001b[39m\u001b[38;5;241m.\u001b[39mcolumns\u001b[38;5;241m.\u001b[39mget_loc(key)\n\u001b[0;32m   3762\u001b[0m \u001b[38;5;28;01mif\u001b[39;00m is_integer(indexer):\n\u001b[0;32m   3763\u001b[0m     indexer \u001b[38;5;241m=\u001b[39m [indexer]\n",
      "File \u001b[1;32m~\\anaconda3\\Lib\\site-packages\\pandas\\core\\indexes\\base.py:3655\u001b[0m, in \u001b[0;36mIndex.get_loc\u001b[1;34m(self, key)\u001b[0m\n\u001b[0;32m   3653\u001b[0m     \u001b[38;5;28;01mreturn\u001b[39;00m \u001b[38;5;28mself\u001b[39m\u001b[38;5;241m.\u001b[39m_engine\u001b[38;5;241m.\u001b[39mget_loc(casted_key)\n\u001b[0;32m   3654\u001b[0m \u001b[38;5;28;01mexcept\u001b[39;00m \u001b[38;5;167;01mKeyError\u001b[39;00m \u001b[38;5;28;01mas\u001b[39;00m err:\n\u001b[1;32m-> 3655\u001b[0m     \u001b[38;5;28;01mraise\u001b[39;00m \u001b[38;5;167;01mKeyError\u001b[39;00m(key) \u001b[38;5;28;01mfrom\u001b[39;00m \u001b[38;5;21;01merr\u001b[39;00m\n\u001b[0;32m   3656\u001b[0m \u001b[38;5;28;01mexcept\u001b[39;00m \u001b[38;5;167;01mTypeError\u001b[39;00m:\n\u001b[0;32m   3657\u001b[0m     \u001b[38;5;66;03m# If we have a listlike key, _check_indexing_error will raise\u001b[39;00m\n\u001b[0;32m   3658\u001b[0m     \u001b[38;5;66;03m#  InvalidIndexError. Otherwise we fall through and re-raise\u001b[39;00m\n\u001b[0;32m   3659\u001b[0m     \u001b[38;5;66;03m#  the TypeError.\u001b[39;00m\n\u001b[0;32m   3660\u001b[0m     \u001b[38;5;28mself\u001b[39m\u001b[38;5;241m.\u001b[39m_check_indexing_error(key)\n",
      "\u001b[1;31mKeyError\u001b[0m: 'speech_id'"
     ]
    }
   ],
   "source": [
    "n_comps = 10\n",
    "pc_cols = [f\"PC{i}\" for i in range(n_comps)]\n",
    "pca_engine = PCA(n_components=n_comps)\n",
    "DCM = pd.DataFrame(pca_engine.fit_transform(TFIDF.fillna(0)), index=TFIDF.index).reset_index().set_index(\n",
    "    ['speech_id', 'para_num'])\n",
    "DCM['speech_id'] = DCM['speech_id'] + 1\n",
    "DCM.columns = pc_cols\n",
    "#print(DCM)\n",
    "DCM = DCM.join(LIB, on='speech_id')\n",
    "LOADINGS = pd.DataFrame(pca_engine.components_.T * np.sqrt(pca_engine.explained_variance_))\n",
    "LOADINGS.columns = [\"PC{}\".format(i) for i in LOADINGS.columns]\n",
    "LOADINGS.index = TFIDF.columns\n",
    "LOADINGS.index.name = 'term_str'\n",
    "LOADINGS = LOADINGS.join(VOCAB)"
   ]
  },
  {
   "cell_type": "code",
   "execution_count": null,
   "id": "c9ef5e04-12dc-4624-9954-10a66525576d",
   "metadata": {
    "tags": []
   },
   "outputs": [],
   "source": [
    "data = []\n",
    "for i in range(n_comps):\n",
    "    for j in [0,1]:\n",
    "        data.append((f\"PC{i}\", j, ' '.join(LOADINGS.sort_values(f'PC{i}', ascending=bool(j)).head(10).index.to_list())))\n",
    "comp_strs = pd.DataFrame(data)\n",
    "comp_strs.columns = ['pc', 'pole', 'top_terms']\n",
    "comp_strs = comp_strs.set_index(['pc', 'pole'])"
   ]
  },
  {
   "cell_type": "code",
   "execution_count": null,
   "id": "96e48648-fe3f-4585-83e5-8dc7bab2bfdc",
   "metadata": {
    "tags": []
   },
   "outputs": [],
   "source": [
    "comp_strs.to_csv('components.csv')\n",
    "comp_strs"
   ]
  },
  {
   "cell_type": "code",
   "execution_count": null,
   "id": "112d03d0-29c2-4a17-931f-cfbbdd7c49b5",
   "metadata": {
    "tags": []
   },
   "outputs": [],
   "source": [
    "DCM.to_csv('DCM.csv')\n",
    "DCM"
   ]
  },
  {
   "cell_type": "code",
   "execution_count": null,
   "id": "aaf742e7-133e-4921-b823-e3b54f7ae45b",
   "metadata": {
    "tags": []
   },
   "outputs": [],
   "source": [
    "LOADINGS.to_csv('LOADINGS.csv')\n",
    "LOADINGS"
   ]
  }
 ],
 "metadata": {
  "kernelspec": {
   "display_name": "Python 3 (ipykernel)",
   "language": "python",
   "name": "python3"
  },
  "language_info": {
   "codemirror_mode": {
    "name": "ipython",
    "version": 3
   },
   "file_extension": ".py",
   "mimetype": "text/x-python",
   "name": "python",
   "nbconvert_exporter": "python",
   "pygments_lexer": "ipython3",
   "version": "3.11.5"
  }
 },
 "nbformat": 4,
 "nbformat_minor": 5
}
