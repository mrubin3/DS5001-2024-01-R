{
 "cells": [
  {
   "cell_type": "markdown",
   "id": "393d476c-726e-410f-9f18-b9b80822a149",
   "metadata": {},
   "source": [
    "## Final Project\n",
    "\n",
    "### Matt Rubin"
   ]
  },
  {
   "cell_type": "code",
   "execution_count": 1,
   "id": "ed9e8499-c648-432a-94dd-9f24b9551390",
   "metadata": {
    "tags": []
   },
   "outputs": [],
   "source": [
    "import pandas as pd\n",
    "import configparser\n",
    "from glob import glob\n",
    "config = configparser.ConfigParser()\n",
    "import sys\n",
    "config.read(\"../../env.ini\")\n",
    "data_home = config['DEFAULT']['data_home']\n",
    "output_dir = config['DEFAULT']['output_dir']\n",
    "local_lib = config['DEFAULT']['local_lib']\n",
    "sys.path.append(local_lib)\n",
    "\n",
    "OHCO = ['para_num', 'sent_num', 'token_num']\n",
    "source_files = f'{data_home}/sotu'"
   ]
  },
  {
   "cell_type": "code",
   "execution_count": 2,
   "id": "128bbf34-df51-4427-a72a-66210a06087c",
   "metadata": {
    "tags": []
   },
   "outputs": [
    {
     "data": {
      "text/html": [
       "<div>\n",
       "<style scoped>\n",
       "    .dataframe tbody tr th:only-of-type {\n",
       "        vertical-align: middle;\n",
       "    }\n",
       "\n",
       "    .dataframe tbody tr th {\n",
       "        vertical-align: top;\n",
       "    }\n",
       "\n",
       "    .dataframe thead th {\n",
       "        text-align: right;\n",
       "    }\n",
       "</style>\n",
       "<table border=\"1\" class=\"dataframe\">\n",
       "  <thead>\n",
       "    <tr style=\"text-align: right;\">\n",
       "      <th></th>\n",
       "      <th>president</th>\n",
       "      <th>source_file_path</th>\n",
       "      <th>year</th>\n",
       "    </tr>\n",
       "    <tr>\n",
       "      <th>speech_id</th>\n",
       "      <th></th>\n",
       "      <th></th>\n",
       "      <th></th>\n",
       "    </tr>\n",
       "  </thead>\n",
       "  <tbody>\n",
       "    <tr>\n",
       "      <th>1</th>\n",
       "      <td>washington</td>\n",
       "      <td>C:/Users/patso/Documents/DS5001//data/sotu\\179...</td>\n",
       "      <td>1790</td>\n",
       "    </tr>\n",
       "    <tr>\n",
       "      <th>2</th>\n",
       "      <td>washington</td>\n",
       "      <td>C:/Users/patso/Documents/DS5001//data/sotu\\179...</td>\n",
       "      <td>1790</td>\n",
       "    </tr>\n",
       "    <tr>\n",
       "      <th>3</th>\n",
       "      <td>washington</td>\n",
       "      <td>C:/Users/patso/Documents/DS5001//data/sotu\\179...</td>\n",
       "      <td>1791</td>\n",
       "    </tr>\n",
       "    <tr>\n",
       "      <th>4</th>\n",
       "      <td>washington</td>\n",
       "      <td>C:/Users/patso/Documents/DS5001//data/sotu\\179...</td>\n",
       "      <td>1792</td>\n",
       "    </tr>\n",
       "    <tr>\n",
       "      <th>5</th>\n",
       "      <td>washington</td>\n",
       "      <td>C:/Users/patso/Documents/DS5001//data/sotu\\179...</td>\n",
       "      <td>1793</td>\n",
       "    </tr>\n",
       "    <tr>\n",
       "      <th>...</th>\n",
       "      <td>...</td>\n",
       "      <td>...</td>\n",
       "      <td>...</td>\n",
       "    </tr>\n",
       "    <tr>\n",
       "      <th>110</th>\n",
       "      <td>trump</td>\n",
       "      <td>C:/Users/patso/Documents/DS5001//data/sotu\\202...</td>\n",
       "      <td>2020</td>\n",
       "    </tr>\n",
       "    <tr>\n",
       "      <th>111</th>\n",
       "      <td>biden</td>\n",
       "      <td>C:/Users/patso/Documents/DS5001//data/sotu\\202...</td>\n",
       "      <td>2021</td>\n",
       "    </tr>\n",
       "    <tr>\n",
       "      <th>112</th>\n",
       "      <td>biden</td>\n",
       "      <td>C:/Users/patso/Documents/DS5001//data/sotu\\202...</td>\n",
       "      <td>2022</td>\n",
       "    </tr>\n",
       "    <tr>\n",
       "      <th>113</th>\n",
       "      <td>biden</td>\n",
       "      <td>C:/Users/patso/Documents/DS5001//data/sotu\\202...</td>\n",
       "      <td>2023</td>\n",
       "    </tr>\n",
       "    <tr>\n",
       "      <th>114</th>\n",
       "      <td>biden</td>\n",
       "      <td>C:/Users/patso/Documents/DS5001//data/sotu\\202...</td>\n",
       "      <td>2024</td>\n",
       "    </tr>\n",
       "  </tbody>\n",
       "</table>\n",
       "<p>114 rows × 3 columns</p>\n",
       "</div>"
      ],
      "text/plain": [
       "            president                                   source_file_path  year\n",
       "speech_id                                                                     \n",
       "1          washington  C:/Users/patso/Documents/DS5001//data/sotu\\179...  1790\n",
       "2          washington  C:/Users/patso/Documents/DS5001//data/sotu\\179...  1790\n",
       "3          washington  C:/Users/patso/Documents/DS5001//data/sotu\\179...  1791\n",
       "4          washington  C:/Users/patso/Documents/DS5001//data/sotu\\179...  1792\n",
       "5          washington  C:/Users/patso/Documents/DS5001//data/sotu\\179...  1793\n",
       "...               ...                                                ...   ...\n",
       "110             trump  C:/Users/patso/Documents/DS5001//data/sotu\\202...  2020\n",
       "111             biden  C:/Users/patso/Documents/DS5001//data/sotu\\202...  2021\n",
       "112             biden  C:/Users/patso/Documents/DS5001//data/sotu\\202...  2022\n",
       "113             biden  C:/Users/patso/Documents/DS5001//data/sotu\\202...  2023\n",
       "114             biden  C:/Users/patso/Documents/DS5001//data/sotu\\202...  2024\n",
       "\n",
       "[114 rows x 3 columns]"
      ]
     },
     "execution_count": 2,
     "metadata": {},
     "output_type": "execute_result"
    }
   ],
   "source": [
    "source_file_list = sorted(glob(f\"{source_files}/*.*\"))\n",
    "book_data = []\n",
    "for source_file_path in source_file_list:\n",
    "    year = int(source_file_path.split('_')[0].split('\\\\')[-1])\n",
    "    president = source_file_path.split('_')[1]\n",
    "    speech_id = int(source_file_path.split('_')[-1].split('.')[0])\n",
    "    book_data.append((speech_id, president, source_file_path, year))\n",
    "    \n",
    "LIB = pd.DataFrame(book_data, columns=['speech_id', 'president', 'source_file_path', 'year']).set_index('speech_id')\n",
    "LIB.to_csv('FINAL_LIB.csv', sep='|')\n",
    "LIB"
   ]
  },
  {
   "cell_type": "code",
   "execution_count": 3,
   "id": "7fef9515-28f7-4bbc-a651-25dce2ad5054",
   "metadata": {
    "tags": []
   },
   "outputs": [
    {
     "name": "stdout",
     "output_type": "stream",
     "text": [
      "28625.745614035088\n"
     ]
    }
   ],
   "source": [
    "chars = 0\n",
    "for L in LIB.index:\n",
    "    file = open(LIB.loc[L].source_file_path, \"r\", encoding='utf8')\n",
    "    f = file.read()\n",
    "    chars += len(f)\n",
    "print(chars/114)"
   ]
  },
  {
   "cell_type": "code",
   "execution_count": null,
   "id": "26d59680-e0f3-44a9-bf4d-008557a87f38",
   "metadata": {
    "tags": []
   },
   "outputs": [],
   "source": []
  },
  {
   "cell_type": "code",
   "execution_count": null,
   "id": "4b85ca9a-86d8-4451-bc84-a7051b975982",
   "metadata": {},
   "outputs": [],
   "source": []
  }
 ],
 "metadata": {
  "kernelspec": {
   "display_name": "Python 3 (ipykernel)",
   "language": "python",
   "name": "python3"
  },
  "language_info": {
   "codemirror_mode": {
    "name": "ipython",
    "version": 3
   },
   "file_extension": ".py",
   "mimetype": "text/x-python",
   "name": "python",
   "nbconvert_exporter": "python",
   "pygments_lexer": "ipython3",
   "version": "3.11.5"
  }
 },
 "nbformat": 4,
 "nbformat_minor": 5
}
