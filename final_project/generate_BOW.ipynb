{
 "cells": [
  {
   "cell_type": "code",
   "execution_count": 23,
   "id": "9c94f7cc-a9a0-4c2c-b9e4-787d210d8051",
   "metadata": {
    "tags": []
   },
   "outputs": [],
   "source": [
    "import pandas as pd\n",
    "import numpy as np\n",
    "import configparser\n",
    "import sys\n",
    "config = configparser.ConfigParser()\n",
    "config.read(\"../../env.ini\")\n",
    "data_home = config['DEFAULT']['data_home']\n",
    "output_dir = config['DEFAULT']['output_dir']\n",
    "local_lib = config['DEFAULT']['local_lib']\n",
    "sys.path.append(local_lib)\n",
    "\n",
    "OHCO = ['speech_id','para_num', 'sent_num', 'token_num']\n",
    "bags = dict(\n",
    "        SENTS = OHCO[:3],\n",
    "        PARAS = OHCO[:2],\n",
    "        SPEECHES = OHCO[:1]\n",
    ")\n",
    "bag = 'PARAS'"
   ]
  },
  {
   "cell_type": "code",
   "execution_count": 25,
   "id": "db70557e-3e59-43f7-a017-8d00d3474ed1",
   "metadata": {
    "tags": []
   },
   "outputs": [],
   "source": [
    "CORPUS = pd.read_csv('CORPUS.csv', sep='|').set_index(OHCO)\n",
    "TFIDF = pd.read_csv('TFIDF.csv').set_index(['speech_id', 'para_num'])"
   ]
  },
  {
   "cell_type": "code",
   "execution_count": 26,
   "id": "67de02bd-cddd-4893-9e11-16ec8ff8a554",
   "metadata": {
    "tags": []
   },
   "outputs": [
    {
     "data": {
      "text/html": [
       "<div>\n",
       "<style scoped>\n",
       "    .dataframe tbody tr th:only-of-type {\n",
       "        vertical-align: middle;\n",
       "    }\n",
       "\n",
       "    .dataframe tbody tr th {\n",
       "        vertical-align: top;\n",
       "    }\n",
       "\n",
       "    .dataframe thead th {\n",
       "        text-align: right;\n",
       "    }\n",
       "</style>\n",
       "<table border=\"1\" class=\"dataframe\">\n",
       "  <thead>\n",
       "    <tr style=\"text-align: right;\">\n",
       "      <th></th>\n",
       "      <th></th>\n",
       "      <th></th>\n",
       "      <th>n</th>\n",
       "      <th>tfidf</th>\n",
       "    </tr>\n",
       "    <tr>\n",
       "      <th>speech_id</th>\n",
       "      <th>para_num</th>\n",
       "      <th>term_str</th>\n",
       "      <th></th>\n",
       "      <th></th>\n",
       "    </tr>\n",
       "  </thead>\n",
       "  <tbody>\n",
       "    <tr>\n",
       "      <th rowspan=\"5\" valign=\"top\">0</th>\n",
       "      <th rowspan=\"5\" valign=\"top\">0</th>\n",
       "      <th>and</th>\n",
       "      <td>1</td>\n",
       "      <td>0.040118</td>\n",
       "    </tr>\n",
       "    <tr>\n",
       "      <th>citizens</th>\n",
       "      <td>1</td>\n",
       "      <td>0.511759</td>\n",
       "    </tr>\n",
       "    <tr>\n",
       "      <th>fellow</th>\n",
       "      <td>1</td>\n",
       "      <td>0.631399</td>\n",
       "    </tr>\n",
       "    <tr>\n",
       "      <th>house</th>\n",
       "      <td>1</td>\n",
       "      <td>0.601154</td>\n",
       "    </tr>\n",
       "    <tr>\n",
       "      <th>of</th>\n",
       "      <td>2</td>\n",
       "      <td>0.084868</td>\n",
       "    </tr>\n",
       "    <tr>\n",
       "      <th>...</th>\n",
       "      <th>...</th>\n",
       "      <th>...</th>\n",
       "      <td>...</td>\n",
       "      <td>...</td>\n",
       "    </tr>\n",
       "    <tr>\n",
       "      <th rowspan=\"5\" valign=\"top\">113</th>\n",
       "      <th rowspan=\"5\" valign=\"top\">267</th>\n",
       "      <th>our</th>\n",
       "      <td>1</td>\n",
       "      <td>0.067257</td>\n",
       "    </tr>\n",
       "    <tr>\n",
       "      <th>protect</th>\n",
       "      <td>1</td>\n",
       "      <td>0.324542</td>\n",
       "    </tr>\n",
       "    <tr>\n",
       "      <th>thank</th>\n",
       "      <td>3</td>\n",
       "      <td>1.037429</td>\n",
       "    </tr>\n",
       "    <tr>\n",
       "      <th>troops</th>\n",
       "      <td>1</td>\n",
       "      <td>0.411474</td>\n",
       "    </tr>\n",
       "    <tr>\n",
       "      <th>you</th>\n",
       "      <td>4</td>\n",
       "      <td>0.695637</td>\n",
       "    </tr>\n",
       "  </tbody>\n",
       "</table>\n",
       "<p>405332 rows × 2 columns</p>\n",
       "</div>"
      ],
      "text/plain": [
       "                             n     tfidf\n",
       "speech_id para_num term_str             \n",
       "0         0        and       1  0.040118\n",
       "                   citizens  1  0.511759\n",
       "                   fellow    1  0.631399\n",
       "                   house     1  0.601154\n",
       "                   of        2  0.084868\n",
       "...                         ..       ...\n",
       "113       267      our       1  0.067257\n",
       "                   protect   1  0.324542\n",
       "                   thank     3  1.037429\n",
       "                   troops    1  0.411474\n",
       "                   you       4  0.695637\n",
       "\n",
       "[405332 rows x 2 columns]"
      ]
     },
     "execution_count": 26,
     "metadata": {},
     "output_type": "execute_result"
    }
   ],
   "source": [
    "BOW = CORPUS.groupby(bags[bag] + ['term_str']).term_str.count().to_frame('n')\n",
    "BOW['tfidf'] = TFIDF.stack()\n",
    "BOW"
   ]
  },
  {
   "cell_type": "code",
   "execution_count": 27,
   "id": "86968ac5-e62a-4e36-aef2-3395de5b7342",
   "metadata": {
    "tags": []
   },
   "outputs": [],
   "source": [
    "BOW.to_csv('BOW.csv', sep=',')"
   ]
  }
 ],
 "metadata": {
  "kernelspec": {
   "display_name": "Python 3 (ipykernel)",
   "language": "python",
   "name": "python3"
  },
  "language_info": {
   "codemirror_mode": {
    "name": "ipython",
    "version": 3
   },
   "file_extension": ".py",
   "mimetype": "text/x-python",
   "name": "python",
   "nbconvert_exporter": "python",
   "pygments_lexer": "ipython3",
   "version": "3.11.5"
  }
 },
 "nbformat": 4,
 "nbformat_minor": 5
}
